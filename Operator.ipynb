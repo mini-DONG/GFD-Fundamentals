{
 "cells": [
  {
   "cell_type": "markdown",
   "id": "664c591c-270c-4d82-aad2-933f8a1395c0",
   "metadata": {},
   "source": [
    "## Operator - Cartesian\n",
    "### Hamiltonian - Nabla $\\nabla$\n",
    "$\\nabla$ denote:\n",
    "$$\\nabla=\\frac{\\partial}{\\partial x}\\mathbf{i}+\\frac{\\partial}{\\partial y}\\mathbf{j}+\\frac{\\partial}{\\partial z}\\mathbf{k}$$\n",
    "the $\\nabla$ is not only a operator, but also a vector. \n",
    "1. When the $\\nabla$ operates on a scalar:\n",
    "$$\\nabla \\rho=\\frac{\\partial \\rho}{\\partial x}\\mathbf{i}+\\frac{\\partial \\rho}{\\partial y}\\mathbf{j}+\\frac{\\partial \\rho}{\\partial z}\\mathbf{k}$$\n",
    "The result is still a **vector** - this is also the **gradient**.\n",
    "2. When the $\\nabla$ operates on a vector:\n",
    "- Dot product:\n",
    "1. Left\n",
    "$$\\nabla \\cdot \\mathbf{v}=\\frac{\\partial u}{\\partial x}+\\frac{\\partial v}{\\partial y}+\\frac{\\partial w}{\\partial z}$$\n",
    "Two vectors are dotted as **scalar** - this is also the **divergence**.\n",
    "2. Right\n",
    "$$\\mathbf{v} \\cdot \\nabla = u \\frac{\\partial}{\\partial x} + v \\frac{\\partial}{\\partial y} + w \\frac{\\partial}{\\partial z}$$\n",
    "Two vectors are dotted as **scalar** - this is also the **advection**. Obviously,\n",
    "$$\\nabla \\cdot \\mathbf{v} \\neq  \\mathbf{v} \\cdot \\nabla$$\n",
    "3. There is another common form $(\\mathbf{v} \\cdot \\nabla) A$, such as:\n",
    "$$(\\mathbf{v} \\cdot \\nabla) \\mathbf{v} = (u \\frac{\\partial u}{\\partial x} + v \\frac{\\partial u}{\\partial y} + w \\frac{\\partial u}{\\partial z})\\mathbf{i} + (u \\frac{\\partial v}{\\partial x} + v \\frac{\\partial v}{\\partial y} + w \\frac{\\partial v}{\\partial z})\\mathbf{j} + (u \\frac{\\partial w}{\\partial x} + v \\frac{\\partial w}{\\partial y} + w \\frac{\\partial w}{\\partial z})\\mathbf{k}$$\n",
    "which is velocity advection.\n",
    "$$(\\mathbf{v} \\cdot \\nabla) T = (u \\frac{\\partial T}{\\partial x} + v \\frac{\\partial T}{\\partial y} + w \\frac{\\partial T}{\\partial z})$$\n",
    "similarly, which is temperature advction. Note that \n",
    "$$(\\mathbf{v} \\cdot \\nabla) \\mathbf{v} \\neq \\mathbf{v} \\cdot (\\nabla \\cdot \\mathbf{v})$$\n",
    "$$(\\mathbf{v} \\cdot \\nabla) T = \\mathbf{v} \\cdot (\\nabla T)$$\n",
    "- Cross product\n",
    "$$\n",
    "\\nabla \\times \\mathbf{v} = \n",
    "\\left | \\begin{matrix}\n",
    "\\mathbf{i} &\\mathbf{j} & \\mathbf{k} \\\\\n",
    "\\frac{\\partial}{\\partial x} &\\frac{\\partial}{\\partial y} &\\frac{\\partial}{\\partial z}  \\\\\n",
    "u &v &w \\\\\n",
    "\\end{matrix} \\right | \n",
    "=(\\frac{\\partial w}{\\partial y}-\\frac{\\partial v}{\\partial z})\\mathbf{i}\n",
    "+(\\frac{\\partial u}{\\partial z}-\\frac{\\partial w}{\\partial x})\\mathbf{j}\n",
    "+(\\frac{\\partial v}{\\partial x}-\\frac{\\partial u}{\\partial y})\\mathbf{k}\n",
    "$$### Laplace operater - $\\Delta$ or $\\nabla^2$\n",
    "The Laplace is dot product of two Hamiltonians:\n",
    "$$\\begin{align}\n",
    "\\Delta&=\\nabla \\cdot \\nabla \\\\\n",
    "&=\\nabla^2 \\\\\n",
    "&=\\frac{\\partial^2}{\\partial x^2}+\\frac{\\partial^2}{\\partial y^2}+\\frac{\\partial^2}{\\partial z^2}\n",
    "\\end{align}$$\n",
    "And this is a **scalor**. Usually, $\\Delta$ represents diffusion.\n",
    "1. When the $\\nabla^2$ operates on a scalar:\n",
    "$$\\nabla^2 T=\\frac{\\partial^2 T}{\\partial x^2}+\\frac{\\partial^2 T}{\\partial y^2}+\\frac{\\partial^2 T}{\\partial z^2}$$\n",
    "Sure, the result is a **scalar**.\n",
    "2. When the $\\nabla^2$ operates on a vector:\n",
    "$$\\begin{align}\n",
    "\\nabla^2 \\mathbf{v} &= \\frac{\\partial^2 u}{\\partial x^2}+\\frac{\\partial^2 u}{\\partial y^2}+\\frac{\\partial^2 u}{\\partial z^2} \\mathbf{i}\\\\\n",
    "&+\\frac{\\partial^2 v}{\\partial x^2}+\\frac{\\partial^2 v}{\\partial y^2}+\\frac{\\partial^2 v}{\\partial z^2} \\mathbf{j}\\\\\n",
    "&+\\frac{\\partial^2 w}{\\partial x^2}+\\frac{\\partial^2 w}{\\partial y^2}+\\frac{\\partial^2 w}{\\partial z^2} \\mathbf{k}\n",
    "\\end{align}$$\n",
    "this is the **vorticity vector**, curl (scalar) means vertical component of vorticity."
   ]
  },
  {
   "cell_type": "markdown",
   "id": "0b750cab-1f25-4f94-9e79-d4114efebe12",
   "metadata": {},
   "source": [
    "### Laplace operater - $\\Delta$ or $\\nabla^2$\n",
    "The Laplace is dot product of two Hamiltonians:\n",
    "$$\\begin{align}\n",
    "\\Delta&=\\nabla \\cdot \\nabla \\\\\n",
    "&=\\nabla^2 \\\\\n",
    "&=\\frac{\\partial^2}{\\partial x^2}+\\frac{\\partial^2}{\\partial y^2}+\\frac{\\partial^2}{\\partial z^2}\n",
    "\\end{align}$$\n",
    "And this is a **scalor**. Usually, $\\Delta$ represents diffusion.\n",
    "1. When the $\\nabla^2$ operates on a scalar:\n",
    "$$\\nabla^2 T=\\frac{\\partial^2 T}{\\partial x^2}+\\frac{\\partial^2 T}{\\partial y^2}+\\frac{\\partial^2 T}{\\partial z^2}$$\n",
    "Sure, the result is a **scalar**.\n",
    "2. When the $\\nabla^2$ operates on a vector:\n",
    "$$\\begin{align}\n",
    "\\nabla^2 \\mathbf{v} &= \\frac{\\partial^2 u}{\\partial x^2}+\\frac{\\partial^2 u}{\\partial y^2}+\\frac{\\partial^2 u}{\\partial z^2} \\mathbf{i}\\\\\n",
    "&+\\frac{\\partial^2 v}{\\partial x^2}+\\frac{\\partial^2 v}{\\partial y^2}+\\frac{\\partial^2 v}{\\partial z^2} \\mathbf{j}\\\\\n",
    "&+\\frac{\\partial^2 w}{\\partial x^2}+\\frac{\\partial^2 w}{\\partial y^2}+\\frac{\\partial^2 w}{\\partial z^2} \\mathbf{k}\n",
    "\\end{align}$$"
   ]
  },
  {
   "cell_type": "code",
   "execution_count": null,
   "id": "aa7ecf14-480b-4ce1-8754-ee704834cd1f",
   "metadata": {},
   "outputs": [],
   "source": []
  }
 ],
 "metadata": {
  "kernelspec": {
   "display_name": "Python 3 (ipykernel)",
   "language": "python",
   "name": "python3"
  },
  "language_info": {
   "codemirror_mode": {
    "name": "ipython",
    "version": 3
   },
   "file_extension": ".py",
   "mimetype": "text/x-python",
   "name": "python",
   "nbconvert_exporter": "python",
   "pygments_lexer": "ipython3",
   "version": "3.9.13"
  }
 },
 "nbformat": 4,
 "nbformat_minor": 5
}
